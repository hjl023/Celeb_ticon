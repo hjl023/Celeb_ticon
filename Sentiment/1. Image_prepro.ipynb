{
 "cells": [
  {
   "cell_type": "code",
   "execution_count": 1,
   "metadata": {},
   "outputs": [],
   "source": [
    "import os\n",
    "import numpy as np\n",
    "import re\n",
    "import torch\n",
    "from torchvision import transforms\n",
    "from PIL import Image, UnidentifiedImageError\n",
    "import numpy as np\n",
    "import pandas as pd\n"
   ]
  },
  {
   "cell_type": "code",
   "execution_count": null,
   "metadata": {},
   "outputs": [],
   "source": [
    "\n",
    "## 원본 사이즈 저장. 수정/원본 비율저장 코드 제작 파일 이름이랑 같이 저장\n",
    "file_name=[]\n",
    "original_width=[]\n",
    "original_height=[]\n",
    "resize_width_ratio=[]\n",
    "resize_height_ratio=[]\n",
    "padding_x=[]\n",
    "padding_y=[]\n",
    "\n",
    "transform = transforms.Compose([\n",
    "    transforms.Resize((640, 640)),  # 이미지 크기 조정\n",
    "    transforms.CenterCrop(640),  # 이미지 중앙을 기준으로 640x640 크기로 잘라냄\n",
    "    transforms.ToTensor(),  # PIL 이미지나 ndarray를 PyTorch 텐서로 변환\n",
    "])\n",
    "\n",
    "main_dir='.\\\\원천데이터'\n",
    "\n",
    "emo_list=os.listdir(main_dir)\n",
    "\n",
    "emo_list\n",
    "for emo in emo_list: # 감성 리스트\n",
    "    file_folder_path=os.path.join(main_dir,emo) # main_dir + 감성 \n",
    "    print(file_folder_path)\n",
    "\n",
    "\n",
    "    match=re.split('_', emo) # 폴더명에서 감성 (기쁨, 슬픔 ) 만 가져오기\n",
    "    match=match[1]\n",
    "\n",
    "    file_list=os.listdir(file_folder_path) # 파일이 들어있는 폴더 경로\n",
    "    print(file_list)\n",
    "\n",
    "    for file in file_list:\n",
    "        origin_file_adress=os.path.join(file_folder_path,file) #파일 경로\n",
    "\n",
    "        file_name.append(file) # 파일명 저장\n",
    "\n",
    "        if os.path.exists(origin_file_adress):\n",
    "            try:\n",
    "                image = Image.open(origin_file_adress)\n",
    "                image_tensor = transform(image)\n",
    "                save_dir = os.path.join('./수정본/', match, file)\n",
    "\n",
    "                if not os.path.exists(save_dir):\n",
    "                    os.makedirs(os.path.dirname(save_dir), exist_ok=True)\n",
    "\n",
    "                torch.save(image_tensor, save_dir)\n",
    "                print(save_dir)\n",
    "\n",
    "            except (OSError, UnidentifiedImageError) as e:\n",
    "                if 'image file is truncated' in str(e):\n",
    "                    print(f\"Error loading image: {origin_file_adress}. Skipping to the next image.\")\n",
    "                else:\n",
    "                    raise e"
   ]
  },
  {
   "cell_type": "code",
   "execution_count": 5,
   "metadata": {},
   "outputs": [],
   "source": [
    "# 데이터 프레임 생성을 위한 딕셔너리 생성\n",
    "dataf={}\n",
    "dataf['file_name']=file_name\n",
    "dataf['original_width']=original_width\n",
    "dataf['original_height']=original_height\n",
    "dataf['padding_x']=padding_x\n",
    "dataf['padding_y']=padding_y\n",
    "dataf['resize_width_ratio']=resize_width_ratio\n",
    "dataf['resize_height_ratio']=resize_height_ratio\n",
    "\n",
    "# 원본 사진 크기와  640 비율 데이터 프레임 생성\n",
    "df = pd.DataFrame(dataf)\n",
    "df.to_csv('./orizin_resize.csv',index=False)"
   ]
  }
 ],
 "metadata": {
  "kernelspec": {
   "display_name": "Python 3",
   "language": "python",
   "name": "python3"
  },
  "language_info": {
   "codemirror_mode": {
    "name": "ipython",
    "version": 3
   },
   "file_extension": ".py",
   "mimetype": "text/x-python",
   "name": "python",
   "nbconvert_exporter": "python",
   "pygments_lexer": "ipython3",
   "version": "3.11.7"
  }
 },
 "nbformat": 4,
 "nbformat_minor": 2
}
